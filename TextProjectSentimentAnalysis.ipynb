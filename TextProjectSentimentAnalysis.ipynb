{
 "cells": [
  {
   "cell_type": "code",
   "execution_count": 1,
   "metadata": {},
   "outputs": [],
   "source": [
    "import pandas as pd\n",
    "from pandas import Series,DataFrame"
   ]
  },
  {
   "cell_type": "code",
   "execution_count": 2,
   "metadata": {},
   "outputs": [],
   "source": [
    "Critics = pd.read_csv('Critics.csv', header = None, names = [\"Author\",\"Score\",\"Date\",\"Comment\",\"Game\"])\n",
    "Critics[\"Type\"] = \"Expert\"\n",
    "Users = pd.read_csv('Users.csv', header = None, names = [\"Author\",\"Score\",\"Date\",\"Comment\",\"Game\"])\n",
    "Users[\"Type\"] = \"User\"\n",
    "CriticsW = pd.read_csv('CriticsWon.csv', header = None, names = [\"Author\",\"Score\",\"Date\",\"Comment\",\"Game\"])\n",
    "CriticsW[\"Type\"] = \"Expert\"\n",
    "UsersW = pd.read_csv('UsersWon.csv', header = None, names = [\"Author\",\"Score\",\"Date\",\"Comment\",\"Game\"])\n",
    "UsersW[\"Type\"] = \"User\"\n",
    "CriticsJ = pd.read_csv('CriticsJ.csv', header = None, names = [\"Author\",\"Score\",\"Date\",\"Comment\",\"Game\"])\n",
    "CriticsJ[\"Type\"] = \"Expert\"\n",
    "UsersJ = pd.read_csv('UsersJ.csv', header = None, names = [\"Author\",\"Score\",\"Date\",\"Comment\",\"Game\"])\n",
    "UsersJ[\"Type\"] = \"User\"\n",
    "\n",
    "\n",
    "Full = pd.concat([Critics,Users,CriticsW,UsersW,CriticsJ,UsersJ])\n",
    "gamelist = {\"Overwatch\":[\"A\",\"FPS\",\"H\"],\"Halo MCC\":[\"A\",\"FPS\",\"H\"],\"Borderlands 2\":[\"A\",\"RPG\",\"H\"],\"Saints Row 4\":[\"A\",\"AA\",\"H\"],\n",
    "            \"The division\":[\"A\",\"FPS\",\"H\"],\"Bioshock\":[\"A\",\"FPS\",\"H\"],\"God of War\":[\"A\",\"AA\",\"H\"],\"Black Ops\":[\"A\",\"FPS\",\"H\"],\n",
    "            \"Destiny\":[\"A\",\"FPS\",\"H\"],\"Zelda\":[\"A\",\"AA\",\"H\"],\"Last of Us\":[\"A\",\"AA\",\"H\"],\"Skyrim\":[\"A\",\"RPG\",\"H\"],\"Oblivion\":[\"A\",\"RPG\",\"H\"],\n",
    "            \"Shadow of War\":[\"A\",\"AA\",\"M\"],\"Dead Rising 4\":[\"A\",\"AA\",\"M\"],\"Cuphead\":[\"I\",\"R+G\",\"M\"],\"Overcooked\":[\"I\",\"Puz\",\"M\"],\n",
    "            \"Papers Please\":[\"I\",\"Puz\",\"M\"],\"Just Cause\":[\"A\",\"AA\",\"M\"],\"Burnout\":[\"A\",\"Rac\",\"M\"],\"Dark Souls\":[\"A\",\"AA\",\"M\"],\n",
    "            \"Dishonored\":[\"A\",\"AA\",\"M\"],\"Dying Light\":[\"A\",\"AA\",\"M\"],\"Madden 19\":[\"A\",\"S\",\"M\"],\"Sunset Overdrive\":[\"A\",\"AA\",\"L\"],\n",
    "            \"NHL 18\":[\"A\",\"S\",\"L\"],\"Quantum Break\":[\"A\",\"FPS\",\"L\"],\"Dead Island Riptide\":[\"A\",\"AA\",\"L\"],\"No Mans Sky\":[\"A\",\"AA\",\"L\"],\n",
    "            \"Witness\":[\"I\",\"Puz\",\"L\"],\"Firewatch\":[\"I\",\"Puz\",\"L\"],\"ARMA\":[\"I\",\"FPS\",\"L\"],\"Skylines\":[\"I\",\"Puz\",\"L\"],\n",
    "            \"Stardew Valley\":[\"A\",\"Puz\",\"M\"]}"
   ]
  },
  {
   "cell_type": "code",
   "execution_count": 3,
   "metadata": {},
   "outputs": [],
   "source": [
    "import pandas as pd\n",
    "import numpy as np\n",
    "from vaderSentiment.vaderSentiment import SentimentIntensityAnalyzer\n",
    "\n",
    "analyser = SentimentIntensityAnalyzer()\n",
    "\n",
    "def sentiment_scores(sentence):\n",
    "    snt = analyser.polarity_scores(sentence)\n",
    "    return snt[\"compound\"]\n",
    "def sentiment_rating(snt_score):\n",
    "    if snt_score < -.1:\n",
    "        return \"Neg\"\n",
    "    elif snt_score > .1:\n",
    "        return \"Pos\"\n",
    "    else:\n",
    "        return \"Neu\"\n",
    "def developer(game):\n",
    "    return gamelist[game][0]\n",
    "def genre(game):\n",
    "    return gamelist[game][1]\n",
    "def tier(game):\n",
    "    return gamelist[game][2]\n",
    "def score_tier(s):\n",
    "    if s >= 7 :\n",
    "        return \"Pos\"\n",
    "    elif s <= 3:\n",
    "        return \"Neg\"\n",
    "    else:\n",
    "        return \"Neu\"\n",
    "def score_change(s):\n",
    "    if s < 11:\n",
    "        return s*10\n",
    "    else: return s"
   ]
  },
  {
   "cell_type": "code",
   "execution_count": 4,
   "metadata": {},
   "outputs": [],
   "source": [
    "Full[\"SentScore\"]= Full[\"Comment\"].map(sentiment_scores)\n",
    "Full[\"SentRate\"]= Full[\"SentScore\"].map(sentiment_rating)\n",
    "Full[\"Developer\"] = Full[\"Game\"].map(developer)\n",
    "Full[\"Genre\"] = Full[\"Game\"].map(genre)\n",
    "Full[\"Tier\"] = Full[\"Game\"].map(tier)\n",
    "Full[\"ScoreRating\"] = Full[\"Score\"].map(score_tier)\n",
    "Full[\"Score\"] = Full[\"Score\"].map(score_change)"
   ]
  },
  {
   "cell_type": "code",
   "execution_count": 5,
   "metadata": {},
   "outputs": [
    {
     "data": {
      "text/plain": [
       "Pos    9114\n",
       "Neg    2752\n",
       "Neu    1326\n",
       "Name: SentRate, dtype: int64"
      ]
     },
     "execution_count": 5,
     "metadata": {},
     "output_type": "execute_result"
    }
   ],
   "source": [
    "Full[Full[\"Type\"]==\"User\"][\"SentRate\"].value_counts()"
   ]
  },
  {
   "cell_type": "code",
   "execution_count": 6,
   "metadata": {},
   "outputs": [
    {
     "data": {
      "text/plain": [
       "Pos    1377\n",
       "Neg     254\n",
       "Neu     134\n",
       "Name: SentRate, dtype: int64"
      ]
     },
     "execution_count": 6,
     "metadata": {},
     "output_type": "execute_result"
    }
   ],
   "source": [
    "Full[Full[\"Type\"]==\"Expert\"][\"SentRate\"].value_counts()"
   ]
  },
  {
   "cell_type": "code",
   "execution_count": 7,
   "metadata": {},
   "outputs": [
    {
     "data": {
      "text/plain": [
       "Game              Type    SentRate\n",
       "ARMA              Expert  Neg           4\n",
       "                          Neu           7\n",
       "                          Pos          30\n",
       "                  User    Neg          59\n",
       "                          Neu          37\n",
       "                          Pos         165\n",
       "Bioshock          Expert  Neg          15\n",
       "                          Neu           5\n",
       "                          Pos          48\n",
       "                  User    Neg         166\n",
       "                          Neu          64\n",
       "                          Pos         857\n",
       "Black Ops         Expert  Neg          17\n",
       "                          Neu           7\n",
       "                          Pos          66\n",
       "                  User    Neg         181\n",
       "                          Neu          73\n",
       "                          Pos         322\n",
       "Borderlands 2     Expert  Neg           3\n",
       "                          Neu           3\n",
       "                          Pos          35\n",
       "                  User    Neg          75\n",
       "                          Neu          36\n",
       "                          Pos         428\n",
       "Burnout           Expert  Neg           2\n",
       "                          Neu           4\n",
       "                          Pos          36\n",
       "                  User    Neg           1\n",
       "                          Neu           1\n",
       "                          Pos          23\n",
       "                                     ... \n",
       "Skyrim            User    Neg         200\n",
       "                          Neu          86\n",
       "                          Pos         514\n",
       "Stardew Valley    Expert  Pos          14\n",
       "                  User    Neg           5\n",
       "                          Pos          23\n",
       "Sunset Overdrive  Expert  Neg          11\n",
       "                          Neu           9\n",
       "                          Pos          72\n",
       "                  User    Neg          43\n",
       "                          Neu          19\n",
       "                          Pos         243\n",
       "The division      Expert  Neg           5\n",
       "                          Neu           4\n",
       "                          Pos          27\n",
       "                  User    Neg         100\n",
       "                          Neu          42\n",
       "                          Pos         184\n",
       "Witness           Expert  Neg           1\n",
       "                          Neu           3\n",
       "                          Pos          19\n",
       "                  User    Neg          15\n",
       "                          Neu          10\n",
       "                          Pos          66\n",
       "Zelda             Expert  Neg           5\n",
       "                          Neu           5\n",
       "                          Pos         102\n",
       "                  User    Neg         132\n",
       "                          Neu          90\n",
       "                          Pos         578\n",
       "Name: SentScore, Length: 197, dtype: int64"
      ]
     },
     "execution_count": 7,
     "metadata": {},
     "output_type": "execute_result"
    }
   ],
   "source": [
    "Full.groupby([Full[\"Game\"],Full[\"Type\"],Full[\"SentRate\"]])[\"SentScore\"].count()"
   ]
  },
  {
   "cell_type": "code",
   "execution_count": 8,
   "metadata": {},
   "outputs": [
    {
     "name": "stdout",
     "output_type": "stream",
     "text": [
      "Overwatch 0.712 0.365 1.951 88.448 58.886 0.347\n",
      "Halo MCC 0.503 0.383 1.313 82.889 71.77 0.12\n",
      "Borderlands 2 0.627 0.546 1.148 86.927 79.314 0.081\n",
      "Saints Row 4 0.373 0.424 0.88 83.917 70.964 -0.051\n",
      "The division 0.431 0.199 2.166 76.806 55.736 0.232\n",
      "Bioshock 0.368 0.519 0.709 93.515 80.028 -0.151\n",
      "God of War 0.508 0.382 1.33 93.364 88.737 0.126\n",
      "Black Ops 0.403 0.195 2.067 80.056 51.892 0.208\n",
      "Destiny 0.678 0.249 2.723 84.388 49.226 0.429\n",
      "Zelda 0.717 0.441 1.626 96.866 90.938 0.276\n",
      "Last of Us 0.521 0.614 0.849 94.98 96.238 -0.093\n",
      "Skyrim 0.51 0.324 1.574 92.314 57.125 0.186\n",
      "Oblivion 0.461 0.477 0.966 83.333 77.568 -0.016\n",
      "Shadow of War 0.366 0.006 61.0 65.75 33.196 0.36\n",
      "Dead Rising 4 -0.24 -0.36 0.667 63.294 41.538 0.12\n",
      "Cuphead 0.638 0.414 1.541 86.265 86.054 0.224\n",
      "Overcooked 0.505 0.624 0.809 77.5 85.0 -0.119\n",
      "Papers Please 0.386 0.525 0.735 83.233 82.948 -0.139\n",
      "Just Cause 0.335 0.184 1.821 70.887 52.553 0.151\n",
      "Burnout 0.692 0.715 0.968 79.976 79.6 -0.023\n",
      "Dark Souls 0.339 0.383 0.885 86.877 88.593 -0.044\n",
      "Dishonored 0.442 0.483 0.915 87.969 79.953 -0.041\n",
      "Dying Light 0.358 0.42 0.852 75.361 82.464 -0.062\n",
      "Madden 19 0.479 0.289 1.657 56.333 27.826 0.19\n",
      "Sunset Overdrive 0.519 0.557 0.932 82.489 82.885 -0.038\n",
      "NHL 18 0.524 -0.052 10.077 67.421 31.176 0.576\n",
      "Quantum Break 0.484 0.372 1.301 77.807 81.407 0.112\n",
      "Dead Island Riptide -0.054 0.158 0.342 62.368 63.0 -0.212\n",
      "No Mans Sky 0.197 0.02 9.85 54.0 33.306 0.177\n",
      "Witness 0.465 0.39 1.192 81.783 67.802 0.075\n",
      "Firewatch 0.514 0.423 1.215 78.691 61.545 0.091\n",
      "ARMA 0.476 0.296 1.608 71.634 66.782 0.18\n",
      "Skylines 0.605 0.518 1.168 86.238 89.245 0.087\n",
      "Stardew Valley 0.659 0.55 1.198 89.857 83.929 0.109\n"
     ]
    }
   ],
   "source": [
    "for g in gamelist.keys():\n",
    "    gamedf = Full[Full[\"Game\"] == g]\n",
    "    xscore = round(gamedf[gamedf[\"Type\"] == \"Expert\"][\"SentScore\"].mean(),3)\n",
    "    uscore = round(gamedf[gamedf[\"Type\"] == \"User\"][\"SentScore\"].mean(),3)\n",
    "    urating = round(gamedf[gamedf[\"Type\"] == \"User\"][\"Score\"].mean(),3)\n",
    "    xrating = round(gamedf[gamedf[\"Type\"] == \"Expert\"][\"Score\"].mean(),3)\n",
    "    diff = round(xscore-uscore,3)\n",
    "    \n",
    "    ratio = round(abs(xscore)/abs(uscore),3)\n",
    "    print(g,xscore,uscore,ratio,xrating,urating,diff)"
   ]
  },
  {
   "cell_type": "code",
   "execution_count": 9,
   "metadata": {},
   "outputs": [
    {
     "data": {
      "text/plain": [
       "<matplotlib.axes._subplots.AxesSubplot at 0x11621ddd8>"
      ]
     },
     "execution_count": 9,
     "metadata": {},
     "output_type": "execute_result"
    }
   ],
   "source": [
    "A = Full[Full[\"Developer\"]==\"A\"]\n",
    "I = Full[Full[\"Developer\"]==\"I\"]\n",
    "A[\"SentRate\"].value_counts()\n",
    "I[\"SentRate\"].value_counts().plot(kind=\"bar\")"
   ]
  },
  {
   "cell_type": "code",
   "execution_count": 10,
   "metadata": {},
   "outputs": [
    {
     "data": {
      "text/plain": [
       "(1012, 1367)"
      ]
     },
     "execution_count": 10,
     "metadata": {},
     "output_type": "execute_result"
    }
   ],
   "source": [
    "cPsN = 0\n",
    "cNsP = 0\n",
    "for a in range(1,len(Full)):\n",
    "    sent = Full.iloc[a][7]\n",
    "    score = Full.iloc[a][11]\n",
    "    if sent == \"Pos\" and score == \"Neg\":\n",
    "        cPsN += 1\n",
    "    elif sent == \"Neg\" and score == \"Pos\":\n",
    "        cNsP += 1\n",
    "cPsN,cNsP"
   ]
  },
  {
   "cell_type": "code",
   "execution_count": 11,
   "metadata": {},
   "outputs": [
    {
     "name": "stdout",
     "output_type": "stream",
     "text": [
      "Overwatch 0.712 0.365 1.951 88.448 588.858\n",
      "Halo MCC 0.503 0.383 1.313 82.889 717.697\n",
      "Borderlands 2 0.627 0.546 1.148 86.927 793.135\n",
      "Saints Row 4 0.373 0.424 0.88 83.917 709.639\n",
      "The division 0.431 0.199 2.166 76.806 557.362\n",
      "Bioshock 0.368 0.519 0.709 93.515 800.276\n",
      "God of War 0.508 0.382 1.33 93.364 887.374\n",
      "Black Ops 0.403 0.195 2.067 80.056 518.924\n",
      "Destiny 0.678 0.249 2.723 84.388 492.256\n",
      "Zelda 0.717 0.441 1.626 96.866 909.375\n",
      "Last of Us 0.521 0.614 0.849 94.98 962.375\n",
      "Skyrim 0.51 0.324 1.574 92.314 571.25\n",
      "Oblivion 0.461 0.477 0.966 83.333 775.676\n",
      "Shadow of War 0.366 0.006 61.0 65.75 331.963\n",
      "Dead Rising 4 -0.24 -0.36 0.667 63.294 415.385\n",
      "Cuphead 0.638 0.414 1.541 86.265 860.541\n",
      "Overcooked 0.505 0.624 0.809 77.5 850.0\n",
      "Papers Please 0.386 0.525 0.735 83.233 829.482\n",
      "Just Cause 0.335 0.184 1.821 70.887 525.532\n",
      "Burnout 0.692 0.715 0.968 79.976 796.0\n",
      "Dark Souls 0.339 0.383 0.885 86.877 885.926\n",
      "Dishonored 0.442 0.483 0.915 87.969 799.528\n",
      "Dying Light 0.358 0.42 0.852 75.361 824.638\n",
      "Madden 19 0.479 0.289 1.657 56.333 278.261\n",
      "Sunset Overdrive 0.519 0.557 0.932 82.489 828.852\n",
      "NHL 18 0.524 -0.052 10.077 67.421 311.765\n",
      "Quantum Break 0.484 0.372 1.301 77.807 814.066\n",
      "Dead Island Riptide -0.054 0.158 0.342 62.368 630.0\n",
      "No Mans Sky 0.197 0.02 9.85 54.0 333.065\n",
      "Witness 0.465 0.39 1.192 81.783 678.022\n",
      "Firewatch 0.514 0.423 1.215 78.691 615.451\n",
      "ARMA 0.476 0.296 1.608 71.634 667.816\n",
      "Skylines 0.605 0.518 1.168 86.238 892.453\n",
      "Stardew Valley 0.659 0.55 1.198 89.857 839.286\n"
     ]
    }
   ],
   "source": [
    "for g in gamelist.keys():\n",
    "    gamedf = Full[Full[\"Game\"] == g]\n",
    "    xscore = round(gamedf[gamedf[\"Type\"] == \"Expert\"][\"SentScore\"].mean(),3)\n",
    "    uscore = round(gamedf[gamedf[\"Type\"] == \"User\"][\"SentScore\"].mean(),3)\n",
    "    urating = round(gamedf[gamedf[\"Type\"] == \"User\"][\"Score\"].mean(),3)\n",
    "    xrating = round(gamedf[gamedf[\"Type\"] == \"Expert\"][\"Score\"].mean(),3)\n",
    "    \n",
    "    ratio = round(abs(xscore)/abs(uscore),3)\n",
    "    print(g,xscore,uscore,ratio,xrating,urating)"
   ]
  },
  {
   "cell_type": "code",
   "execution_count": 12,
   "metadata": {},
   "outputs": [
    {
     "data": {
      "text/plain": [
       "Pos    10491\n",
       "Neg     3006\n",
       "Neu     1460\n",
       "Name: SentRate, dtype: int64"
      ]
     },
     "execution_count": 12,
     "metadata": {},
     "output_type": "execute_result"
    }
   ],
   "source": [
    "Full[\"SentRate\"].value_counts()"
   ]
  },
  {
   "cell_type": "code",
   "execution_count": 15,
   "metadata": {},
   "outputs": [
    {
     "data": {
      "text/plain": [
       "<matplotlib.axes._subplots.AxesSubplot at 0x11633ae48>"
      ]
     },
     "execution_count": 15,
     "metadata": {},
     "output_type": "execute_result"
    },
    {
     "data": {
      "image/png": "[encoded data removed]",
      "text/plain": [
       "<Figure size 432x288 with 1 Axes>"
      ]
     },
     "metadata": {
      "needs_background": "light"
     },
     "output_type": "display_data"
    }
   ],
   "source": [
    "Series(Full.groupby(Full[\"Type\"])[\"Score\"].mean()).plot(kind=\"bar\")"
   ]
  },
  {
   "cell_type": "code",
   "execution_count": 16,
   "metadata": {},
   "outputs": [
    {
     "data": {
      "text/plain": [
       "<matplotlib.axes._subplots.AxesSubplot at 0x1163ddba8>"
      ]
     },
     "execution_count": 16,
     "metadata": {},
     "output_type": "execute_result"
    },
    {
     "data": {
      "image/png": "[encoded data removed]",
      "text/plain": [
       "<Figure size 432x288 with 1 Axes>"
      ]
     },
     "metadata": {
      "needs_background": "light"
     },
     "output_type": "display_data"
    }
   ],
   "source": [
    "Series(Full.groupby(Full[\"Developer\"])[\"Score\"].mean()).plot(kind=\"bar\")"
   ]
  },
  {
   "cell_type": "code",
   "execution_count": 17,
   "metadata": {},
   "outputs": [
    {
     "data": {
      "text/plain": [
       "<matplotlib.axes._subplots.AxesSubplot at 0x11645a358>"
      ]
     },
     "execution_count": 17,
     "metadata": {},
     "output_type": "execute_result"
    },
    {
     "data": {
      "image/png": "[encoded data removed]",
      "text/plain": [
       "<Figure size 432x288 with 1 Axes>"
      ]
     },
     "metadata": {
      "needs_background": "light"
     },
     "output_type": "display_data"
    }
   ],
   "source": [
    "Series(Full.groupby(Full[\"Tier\"])[\"Score\"].mean()).plot(kind=\"bar\")"
   ]
  },
  {
   "cell_type": "code",
   "execution_count": 22,
   "metadata": {},
   "outputs": [
    {
     "data": {
      "text/plain": [
       "<matplotlib.axes._subplots.AxesSubplot at 0x11645a860>"
      ]
     },
     "execution_count": 22,
     "metadata": {},
     "output_type": "execute_result"
    },
    {
     "data": {
      "image/png": "[encoded data removed]",
      "text/plain": [
       "<Figure size 432x288 with 1 Axes>"
      ]
     },
     "metadata": {
      "needs_background": "light"
     },
     "output_type": "display_data"
    }
   ],
   "source": [
    "Series(Full.groupby(Full[\"Type\"])[\"SentScore\"].mean()).plot(kind=\"bar\")"
   ]
  },
  {
   "cell_type": "code",
   "execution_count": 23,
   "metadata": {},
   "outputs": [
    {
     "data": {
      "text/plain": [
       "Type\n",
       "Expert    0.490882\n",
       "User      0.386089\n",
       "Name: SentScore, dtype: float64"
      ]
     },
     "execution_count": 23,
     "metadata": {},
     "output_type": "execute_result"
    }
   ],
   "source": [
    "Full.groupby(Full[\"Type\"])[\"SentScore\"].mean()"
   ]
  },
  {
   "cell_type": "code",
   "execution_count": 24,
   "metadata": {},
   "outputs": [
    {
     "data": {
      "text/plain": [
       "Type\n",
       "Expert    83.428329\n",
       "User      71.753335\n",
       "Name: Score, dtype: float64"
      ]
     },
     "execution_count": 24,
     "metadata": {},
     "output_type": "execute_result"
    }
   ],
   "source": [
    "Full.groupby(Full[\"Type\"])[\"Score\"].mean()"
   ]
  },
  {
   "cell_type": "code",
   "execution_count": null,
   "metadata": {},
   "outputs": [],
   "source": []
  }
 ],
 "metadata": {
  "kernelspec": {
   "display_name": "Python 3",
   "language": "python",
   "name": "python3"
  },
  "language_info": {
   "codemirror_mode": {
    "name": "ipython",
    "version": 3
   },
   "file_extension": ".py",
   "mimetype": "text/x-python",
   "name": "python",
   "nbconvert_exporter": "python",
   "pygments_lexer": "ipython3",
   "version": "3.6.5"
  }
 },
 "nbformat": 4,
 "nbformat_minor": 2
}
