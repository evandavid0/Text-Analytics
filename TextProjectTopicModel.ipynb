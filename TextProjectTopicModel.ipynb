{
 "cells": [
  {
   "cell_type": "code",
   "execution_count": 3,
   "metadata": {},
   "outputs": [],
   "source": [
    "import pandas as pd\n",
    "from pandas import Series,DataFrame\n",
    "Critics = pd.read_csv('Critics.csv', header = None, names = [\"Author\",\"Score\",\"Date\",\"Comment\",\"Game\"])\n",
    "Critics[\"Type\"] = \"Expert\"\n",
    "Users = pd.read_csv('Users.csv', header = None, names = [\"Author\",\"Score\",\"Date\",\"Comment\",\"Game\"])\n",
    "Users[\"Type\"] = \"User\"\n",
    "CriticsW = pd.read_csv('CriticsWon.csv', header = None, names = [\"Author\",\"Score\",\"Date\",\"Comment\",\"Game\"])\n",
    "CriticsW[\"Type\"] = \"Expert\"\n",
    "UsersW = pd.read_csv('UsersWon.csv', header = None, names = [\"Author\",\"Score\",\"Date\",\"Comment\",\"Game\"])\n",
    "UsersW[\"Type\"] = \"User\"\n",
    "CriticsJ = pd.read_csv('CriticsJ.csv', header = None, names = [\"Author\",\"Score\",\"Date\",\"Comment\",\"Game\"])\n",
    "CriticsJ[\"Type\"] = \"Expert\"\n",
    "UsersJ = pd.read_csv('UsersJ.csv', header = None, names = [\"Author\",\"Score\",\"Date\",\"Comment\",\"Game\"])\n",
    "UsersJ[\"Type\"] = \"User\"\n",
    "\n",
    "\n",
    "Full = pd.concat([Critics,Users,CriticsW,UsersW,CriticsJ,UsersJ])\n",
    "gamelist = {\"Overwatch\":[\"A\",\"FPS\",\"H\"],\"Halo MCC\":[\"A\",\"FPS\",\"H\"],\"Borderlands 2\":[\"A\",\"RPG\",\"H\"],\"Saints Row 4\":[\"A\",\"AA\",\"H\"],\n",
    "            \"The division\":[\"A\",\"FPS\",\"H\"],\"Bioshock\":[\"A\",\"FPS\",\"H\"],\"God of War\":[\"A\",\"AA\",\"H\"],\"Black Ops\":[\"A\",\"FPS\",\"H\"],\n",
    "            \"Destiny\":[\"A\",\"FPS\",\"H\"],\"Zelda\":[\"A\",\"AA\",\"H\"],\"Last of Us\":[\"A\",\"AA\",\"H\"],\"Skyrim\":[\"A\",\"RPG\",\"H\"],\"Oblivion\":[\"A\",\"RPG\",\"H\"],\n",
    "            \"Shadow of War\":[\"A\",\"AA\",\"M\"],\"Dead Rising 4\":[\"A\",\"AA\",\"M\"],\"Cuphead\":[\"I\",\"R+G\",\"M\"],\"Overcooked\":[\"I\",\"Puz\",\"M\"],\n",
    "            \"Papers Please\":[\"I\",\"Puz\",\"M\"],\"Just Cause\":[\"A\",\"AA\",\"M\"],\"Burnout\":[\"A\",\"Rac\",\"M\"],\"Dark Souls\":[\"A\",\"AA\",\"M\"],\n",
    "            \"Dishonored\":[\"A\",\"AA\",\"M\"],\"Dying Light\":[\"A\",\"AA\",\"M\"],\"Madden 19\":[\"A\",\"S\",\"M\"],\"Sunset Overdrive\":[\"A\",\"AA\",\"L\"],\n",
    "            \"NHL 18\":[\"A\",\"S\",\"L\"],\"Quantum Break\":[\"A\",\"FPS\",\"L\"],\"Dead Island Riptide\":[\"A\",\"AA\",\"L\"],\"No Mans Sky\":[\"A\",\"AA\",\"L\"],\n",
    "            \"Witness\":[\"I\",\"Puz\",\"L\"],\"Firewatch\":[\"I\",\"Puz\",\"L\"],\"ARMA\":[\"I\",\"FPS\",\"L\"],\"Skylines\":[\"I\",\"Puz\",\"L\"],\n",
    "            \"Stardew Valley\":[\"A\",\"Puz\",\"M\"]}\n",
    "import pandas as pd\n",
    "import numpy as np\n",
    "from vaderSentiment.vaderSentiment import SentimentIntensityAnalyzer\n",
    "\n",
    "analyser = SentimentIntensityAnalyzer()\n",
    "\n",
    "def sentiment_scores(sentence):\n",
    "    snt = analyser.polarity_scores(sentence)\n",
    "    return snt[\"compound\"]\n",
    "def sentiment_rating(snt_score):\n",
    "    if snt_score < -.1:\n",
    "        return \"Neg\"\n",
    "    elif snt_score > .1:\n",
    "        return \"Pos\"\n",
    "    else:\n",
    "        return \"Neu\"\n",
    "def developer(game):\n",
    "    return gamelist[game][0]\n",
    "def genre(game):\n",
    "    return gamelist[game][1]\n",
    "def tier(game):\n",
    "    return gamelist[game][2]\n",
    "Full[\"SentScore\"]= Full[\"Comment\"].map(sentiment_scores)\n",
    "Full[\"SentRate\"]= Full[\"SentScore\"].map(sentiment_rating)\n",
    "Full[\"Developer\"] = Full[\"Game\"].map(developer)\n",
    "Full[\"Genre\"] = Full[\"Game\"].map(genre)\n",
    "Full[\"Tier\"] = Full[\"Game\"].map(tier)"
   ]
  },
  {
   "cell_type": "code",
   "execution_count": 2,
   "metadata": {},
   "outputs": [],
   "source": [
    "doc_complete = []\n",
    "for i in range(1,len(Full)):\n",
    "    doc_complete.append(Full.iloc[i][3])\n"
   ]
  },
  {
   "cell_type": "code",
   "execution_count": 5,
   "metadata": {},
   "outputs": [],
   "source": [
    "from nltk.corpus import stopwords \n",
    "from nltk.stem.wordnet import WordNetLemmatizer\n",
    "import string\n",
    "stop = set(stopwords.words('english'))\n",
    "exclude = set(string.punctuation)\n",
    "lemma = WordNetLemmatizer()\n",
    "def clean(doc):\n",
    "    stop_free = \" \".join([i for i in doc.lower().split() if i not in stop])\n",
    "    punc_free = ''.join(ch for ch in stop_free if ch not in exclude)\n",
    "    normalized = \" \".join(lemma.lemmatize(word) for word in punc_free.split())\n",
    "    return normalized\n",
    "\n",
    "doc_clean = [clean(doc).split() for doc in doc_complete]  "
   ]
  },
  {
   "cell_type": "code",
   "execution_count": 4,
   "metadata": {},
   "outputs": [],
   "source": [
    "import gensim\n",
    "from gensim import corpora\n",
    "\n",
    "# Creating the term dictionary of our courpus, where every unique term is assigned an index. \n",
    "dictionary = corpora.Dictionary(doc_clean)\n",
    "\n",
    "# Converting list of documents (corpus) into Document Term Matrix using dictionary prepared above.\n",
    "doc_term_matrix = [dictionary.doc2bow(doc) for doc in doc_clean]\n",
    "\n"
   ]
  },
  {
   "cell_type": "code",
   "execution_count": 5,
   "metadata": {},
   "outputs": [
    {
     "name": "stdout",
     "output_type": "stream",
     "text": [
      "[(0, '0.022*\"expand\" + 0.010*\"review\" + 0.009*\"destiny\" + 0.009*\"2\"'), (1, '0.037*\"de\" + 0.033*\"que\" + 0.020*\"la\" + 0.019*\"e\"'), (2, '0.009*\"jogo\" + 0.007*\"и\" + 0.005*\"hello\" + 0.005*\"um\"'), (3, '0.072*\"game\" + 0.010*\"one\" + 0.009*\"story\" + 0.008*\"like\"')]\n"
     ]
    }
   ],
   "source": [
    "# Creating the object for LDA model using gensim library\n",
    "Lda = gensim.models.ldamodel.LdaModel\n",
    "\n",
    "# Running and Trainign LDA model on the document term matrix.\n",
    "ldamodel = Lda(doc_term_matrix, num_topics=4, id2word = dictionary, passes=50)\n",
    "\n",
    "print(ldamodel.print_topics(num_topics=4, num_words=4))\n"
   ]
  },
  {
   "cell_type": "code",
   "execution_count": 6,
   "metadata": {},
   "outputs": [
    {
     "name": "stdout",
     "output_type": "stream",
     "text": [
      "[(0, '0.031*\"best\" + 0.029*\"game\" + 0.017*\"god\"'), (1, '0.070*\"game\" + 0.017*\"story\" + 0.013*\"great\"'), (2, '0.023*\"pc\" + 0.018*\"mod\" + 0.009*\"game\"'), (3, '0.060*\"expand\" + 0.035*\"review\" + 0.034*\"destiny\"'), (4, '0.042*\"de\" + 0.037*\"que\" + 0.025*\"e\"'), (5, '0.026*\"halo\" + 0.012*\"scroll\" + 0.012*\"elder\"'), (6, '0.016*\"2\" + 0.014*\"like\" + 0.013*\"zombie\"'), (7, '0.013*\"sony\" + 0.009*\"nintendo\" + 0.008*\"fighting\"'), (8, '0.027*\"city\" + 0.017*\"skyrim\" + 0.011*\"row\"'), (9, '0.095*\"game\" + 0.010*\"play\" + 0.010*\"it\"')]\n"
     ]
    }
   ],
   "source": [
    "# Creating the object for LDA model using gensim library\n",
    "Lda = gensim.models.ldamodel.LdaModel\n",
    "\n",
    "# Running and Trainign LDA model on the document term matrix.\n",
    "ldamodel = Lda(doc_term_matrix, num_topics=10, id2word = dictionary, passes=50)\n",
    "\n",
    "print(ldamodel.print_topics(num_topics=10, num_words=3))\n"
   ]
  },
  {
   "cell_type": "code",
   "execution_count": 7,
   "metadata": {},
   "outputs": [
    {
     "name": "stdout",
     "output_type": "stream",
     "text": [
      "[(0, '0.031*\"best\" + 0.029*\"game\" + 0.017*\"god\" + 0.017*\"war\"'), (1, '0.070*\"game\" + 0.017*\"story\" + 0.013*\"great\" + 0.011*\"expand\"'), (2, '0.023*\"pc\" + 0.018*\"mod\" + 0.009*\"game\" + 0.008*\"run\"'), (3, '0.060*\"expand\" + 0.035*\"review\" + 0.034*\"destiny\" + 0.024*\"view\"'), (4, '0.042*\"de\" + 0.037*\"que\" + 0.025*\"e\" + 0.023*\"la\"'), (5, '0.026*\"halo\" + 0.012*\"scroll\" + 0.012*\"elder\" + 0.011*\"и\"'), (6, '0.016*\"2\" + 0.014*\"like\" + 0.013*\"zombie\" + 0.012*\"3\"'), (7, '0.013*\"sony\" + 0.009*\"nintendo\" + 0.008*\"fighting\" + 0.008*\"sim\"'), (8, '0.027*\"city\" + 0.017*\"skyrim\" + 0.011*\"row\" + 0.011*\"saint\"'), (9, '0.095*\"game\" + 0.010*\"play\" + 0.010*\"it\" + 0.010*\"one\"')]\n"
     ]
    }
   ],
   "source": [
    "print(ldamodel.print_topics(num_topics=10, num_words=4))"
   ]
  },
  {
   "cell_type": "code",
   "execution_count": 8,
   "metadata": {},
   "outputs": [
    {
     "name": "stdout",
     "output_type": "stream",
     "text": [
      "[(0, '0.040*\"zelda\" + 0.034*\"city\" + 0.021*\"breath\" + 0.018*\"wild\"'), (1, '0.070*\"game\" + 0.013*\"like\" + 0.013*\"expand\" + 0.009*\"play\"'), (2, '0.014*\"arma\" + 0.013*\"jogo\" + 0.011*\"e\" + 0.010*\"de\"'), (3, '0.019*\"u\" + 0.014*\"new\" + 0.011*\"last\" + 0.010*\"dog\"'), (4, '0.014*\"planet\" + 0.009*\"system\" + 0.006*\"lie\" + 0.006*\"run\"'), (5, '0.043*\"game\" + 0.012*\"mod\" + 0.009*\"buy\" + 0.007*\"money\"'), (6, '0.086*\"game\" + 0.020*\"best\" + 0.020*\"story\" + 0.016*\"one\"'), (7, '0.018*\"ops\" + 0.014*\"3\" + 0.012*\"row\" + 0.012*\"saint\"'), (8, '0.038*\"de\" + 0.035*\"que\" + 0.033*\"expand\" + 0.025*\"la\"'), (9, '0.034*\"call\" + 0.025*\"duty\" + 0.011*\"uncharted\" + 0.010*\"historia\"')]\n"
     ]
    }
   ],
   "source": [
    "# Creating the object for LDA model using gensim library\n",
    "Lda = gensim.models.ldamodel.LdaModel\n",
    "\n",
    "# Running and Trainign LDA model on the document term matrix.\n",
    "ldamodel = Lda(doc_term_matrix, num_topics=10, id2word = dictionary, passes=50)\n",
    "\n",
    "print(ldamodel.print_topics(num_topics=15, num_words=4))\n"
   ]
  },
  {
   "cell_type": "code",
   "execution_count": 10,
   "metadata": {},
   "outputs": [
    {
     "name": "stdout",
     "output_type": "stream",
     "text": [
      "Overwatch\n",
      "[(0, '0.015*\"que\" + 0.014*\"de\" + 0.009*\"e\" + 0.007*\"la\"'), (1, '0.052*\"game\" + 0.013*\"fun\" + 0.011*\"blizzard\" + 0.010*\"expand\"'), (2, '0.056*\"game\" + 0.016*\"team\" + 0.014*\"overwatch\" + 0.011*\"character\"'), (3, '0.060*\"game\" + 0.016*\"play\" + 0.014*\"fun\" + 0.012*\"overwatch\"')]\n",
      "Halo MCC\n",
      "[(0, '0.019*\"game\" + 0.018*\"halo\" + 0.013*\"multiplayer\" + 0.010*\"de\"'), (1, '0.044*\"game\" + 0.042*\"halo\" + 0.013*\"2\" + 0.012*\"4\"'), (2, '0.036*\"halo\" + 0.017*\"collection\" + 0.016*\"master\" + 0.015*\"chief\"'), (3, '0.049*\"game\" + 0.029*\"halo\" + 0.011*\"one\" + 0.011*\"multiplayer\"')]\n",
      "Borderlands 2\n",
      "[(0, '0.036*\"game\" + 0.023*\"borderland\" + 0.015*\"2\" + 0.012*\"gun\"'), (1, '0.059*\"game\" + 0.018*\"like\" + 0.012*\"borderland\" + 0.011*\"first\"'), (2, '0.021*\"game\" + 0.011*\"one\" + 0.009*\"really\" + 0.008*\"borderland\"'), (3, '0.046*\"game\" + 0.017*\"borderland\" + 0.012*\"great\" + 0.011*\"first\"')]\n",
      "Saints Row 4\n",
      "[(0, '0.058*\"game\" + 0.030*\"saint\" + 0.030*\"row\" + 0.014*\"fun\"'), (1, '0.044*\"game\" + 0.024*\"saint\" + 0.023*\"row\" + 0.018*\"expand\"'), (2, '0.038*\"game\" + 0.011*\"row\" + 0.010*\"saint\" + 0.009*\"like\"'), (3, '0.029*\"game\" + 0.021*\"row\" + 0.021*\"saint\" + 0.012*\"fun\"')]\n",
      "The division\n",
      "[(0, '0.056*\"game\" + 0.011*\"good\" + 0.011*\"like\" + 0.010*\"division\"'), (1, '0.029*\"game\" + 0.011*\"one\" + 0.009*\"hour\" + 0.008*\"buy\"'), (2, '0.021*\"game\" + 0.008*\"ubisoft\" + 0.007*\"division\" + 0.005*\"like\"'), (3, '0.029*\"game\" + 0.007*\"play\" + 0.007*\"one\" + 0.007*\"great\"')]\n",
      "Bioshock\n",
      "[(0, '0.011*\"game\" + 0.009*\"story\" + 0.007*\"bioshock\" + 0.005*\"world\"'), (1, '0.013*\"bioshock\" + 0.010*\"infinite\" + 0.004*\"many\" + 0.004*\"plot\"'), (2, '0.068*\"game\" + 0.019*\"bioshock\" + 0.017*\"story\" + 0.011*\"infinite\"'), (3, '0.037*\"expand\" + 0.025*\"review\" + 0.022*\"view\" + 0.021*\"spoiler\"')]\n",
      "God of War\n",
      "[(0, '0.018*\"expand\" + 0.017*\"god\" + 0.017*\"war\" + 0.017*\"game\"'), (1, '0.017*\"e\" + 0.016*\"jogo\" + 0.013*\"que\" + 0.013*\"de\"'), (2, '0.031*\"de\" + 0.018*\"que\" + 0.018*\"la\" + 0.013*\"el\"'), (3, '0.070*\"game\" + 0.019*\"god\" + 0.018*\"war\" + 0.015*\"best\"')]\n",
      "Black Ops\n",
      "[(0, '0.036*\"game\" + 0.020*\"call\" + 0.019*\"duty\" + 0.018*\"ops\"'), (1, '0.021*\"game\" + 0.012*\"campaign\" + 0.011*\"multiplayer\" + 0.011*\"cod\"'), (2, '0.036*\"game\" + 0.012*\"zombie\" + 0.012*\"campaign\" + 0.011*\"multiplayer\"'), (3, '0.031*\"game\" + 0.021*\"cod\" + 0.015*\"multiplayer\" + 0.014*\"fun\"')]\n",
      "Destiny\n",
      "[(0, '0.012*\"de\" + 0.012*\"que\" + 0.010*\"microtransactions\" + 0.008*\"pvp\"'), (1, '0.040*\"game\" + 0.030*\"destiny\" + 0.012*\"2\" + 0.009*\"1\"'), (2, '0.041*\"destiny\" + 0.031*\"game\" + 0.023*\"2\" + 0.009*\"1\"'), (3, '0.044*\"game\" + 0.011*\"destiny\" + 0.011*\"story\" + 0.010*\"first\"')]\n",
      "Zelda\n",
      "[(0, '0.017*\"la\" + 0.015*\"de\" + 0.011*\"que\" + 0.010*\"juego\"'), (1, '0.070*\"game\" + 0.021*\"zelda\" + 0.013*\"best\" + 0.010*\"world\"'), (2, '0.032*\"de\" + 0.030*\"que\" + 0.020*\"la\" + 0.018*\"el\"'), (3, '0.054*\"game\" + 0.019*\"zelda\" + 0.015*\"world\" + 0.012*\"breath\"')]\n",
      "Last of Us\n",
      "[(0, '0.079*\"game\" + 0.020*\"best\" + 0.017*\"story\" + 0.014*\"one\"'), (1, '0.023*\"game\" + 0.014*\"u\" + 0.014*\"dog\" + 0.014*\"naughty\"'), (2, '0.057*\"game\" + 0.011*\"story\" + 0.010*\"like\" + 0.010*\"character\"'), (3, '0.025*\"expand\" + 0.018*\"review\" + 0.018*\"spoiler\" + 0.015*\"contains\"')]\n",
      "Skyrim\n",
      "[(0, '0.058*\"game\" + 0.015*\"skyrim\" + 0.011*\"expand\" + 0.009*\"world\"'), (1, '0.010*\"game\" + 0.009*\"get\" + 0.007*\"zero\" + 0.006*\"oblivion\"'), (2, '0.094*\"mod\" + 0.044*\"paid\" + 0.023*\"bethesda\" + 0.021*\"game\"'), (3, '0.033*\"game\" + 0.015*\"expand\" + 0.010*\"skyrim\" + 0.007*\"one\"')]\n",
      "Oblivion\n",
      "[(0, '0.021*\"game\" + 0.017*\"expand\" + 0.009*\"quest\" + 0.008*\"level\"'), (1, '0.045*\"game\" + 0.014*\"oblivion\" + 0.013*\"expand\" + 0.009*\"one\"'), (2, '0.035*\"game\" + 0.010*\"expand\" + 0.010*\"one\" + 0.009*\"like\"'), (3, '0.058*\"game\" + 0.012*\"best\" + 0.012*\"quest\" + 0.011*\"oblivion\"')]\n",
      "Shadow of War\n",
      "[(0, '0.076*\"game\" + 0.014*\"loot\" + 0.013*\"microtransactions\" + 0.012*\"box\"'), (1, '0.008*\"game\" + 0.006*\"microtransactions\" + 0.005*\"el\" + 0.005*\"one\"'), (2, '0.018*\"game\" + 0.011*\"system\" + 0.008*\"nemesis\" + 0.007*\"microtransactions\"'), (3, '0.012*\"act\" + 0.012*\"4\" + 0.011*\"ruin\" + 0.010*\"de\"')]\n",
      "Dead Rising 4\n",
      "[(0, '0.025*\"rising\" + 0.023*\"game\" + 0.023*\"dead\" + 0.013*\"play\"'), (1, '0.029*\"game\" + 0.018*\"rising\" + 0.018*\"get\" + 0.018*\"dead\"'), (2, '0.025*\"rising\" + 0.025*\"dead\" + 0.025*\"game\" + 0.017*\"4\"'), (3, '0.017*\"series\" + 0.017*\"dead\" + 0.017*\"game\" + 0.014*\"worst\"')]\n",
      "Cuphead\n",
      "[(0, '0.052*\"game\" + 0.011*\"good\" + 0.011*\"cuphead\" + 0.010*\"like\"'), (1, '0.045*\"game\" + 0.009*\"cuphead\" + 0.007*\"art\" + 0.006*\"hard\"'), (2, '0.025*\"de\" + 0.023*\"que\" + 0.013*\"juego\" + 0.013*\"la\"'), (3, '0.023*\"game\" + 0.017*\"cuphead\" + 0.009*\"cartoon\" + 0.008*\"like\"')]\n",
      "Overcooked\n",
      "[(0, '0.039*\"game\" + 0.031*\"coop\" + 0.022*\"best\" + 0.014*\"played\"'), (1, '0.025*\"coop\" + 0.025*\"redefine\" + 0.019*\"overcooked\" + 0.019*\"game\"'), (2, '0.051*\"game\" + 0.017*\"fun\" + 0.015*\"overcooked\" + 0.015*\"friend\"'), (3, '0.037*\"game\" + 0.013*\"make\" + 0.013*\"overcooked\" + 0.013*\"might\"')]\n",
      "Papers Please\n",
      "[(0, '0.010*\"game\" + 0.005*\"paper\" + 0.005*\"please\" + 0.005*\"glory\"'), (1, '0.027*\"game\" + 0.008*\"paper\" + 0.008*\"please\" + 0.005*\"play\"'), (2, '0.062*\"game\" + 0.011*\"expand\" + 0.009*\"paper\" + 0.009*\"please\"'), (3, '0.046*\"game\" + 0.012*\"paper\" + 0.011*\"fun\" + 0.010*\"get\"')]\n",
      "Just Cause\n",
      "[(0, '0.041*\"cause\" + 0.035*\"game\" + 0.023*\"3\" + 0.015*\"2\"'), (1, '0.028*\"game\" + 0.011*\"fun\" + 0.009*\"cause\" + 0.007*\"3\"'), (2, '0.042*\"game\" + 0.010*\"time\" + 0.007*\"like\" + 0.007*\"fun\"'), (3, '0.023*\"game\" + 0.015*\"cause\" + 0.011*\"fun\" + 0.010*\"3\"')]\n",
      "Burnout\n",
      "[(0, '0.032*\"game\" + 0.030*\"paradise\" + 0.028*\"burnout\" + 0.021*\"remastered\"'), (1, '0.016*\"paradise\" + 0.016*\"–\" + 0.013*\"burnout\" + 0.010*\"racing\"'), (2, '0.047*\"game\" + 0.025*\"burnout\" + 0.017*\"racing\" + 0.013*\"paradise\"'), (3, '0.028*\"game\" + 0.014*\"arcade\" + 0.014*\"paradise\" + 0.014*\"burnout\"')]\n",
      "Dark Souls\n",
      "[(0, '0.041*\"game\" + 0.022*\"soul\" + 0.012*\"dark\" + 0.011*\"one\"'), (1, '0.054*\"game\" + 0.017*\"soul\" + 0.015*\"dark\" + 0.013*\"expand\"'), (2, '0.062*\"game\" + 0.029*\"soul\" + 0.017*\"dark\" + 0.013*\"demon\"'), (3, '0.031*\"game\" + 0.024*\"soul\" + 0.019*\"dark\" + 0.009*\"expand\"')]\n",
      "Dishonored\n",
      "[(0, '0.062*\"game\" + 0.013*\"like\" + 0.013*\"stealth\" + 0.011*\"best\"'), (1, '0.019*\"expand\" + 0.018*\"game\" + 0.011*\"review\" + 0.010*\"view\"'), (2, '0.032*\"game\" + 0.010*\"dishonored\" + 0.009*\"stealth\" + 0.008*\"expand\"'), (3, '0.061*\"game\" + 0.012*\"expand\" + 0.011*\"dishonored\" + 0.011*\"story\"')]\n",
      "Dying Light\n",
      "[(0, '0.062*\"game\" + 0.019*\"zombie\" + 0.014*\"dead\" + 0.014*\"light\"'), (1, '0.023*\"game\" + 0.017*\"expand\" + 0.011*\"review\" + 0.010*\"like\"'), (2, '0.029*\"game\" + 0.017*\"light\" + 0.016*\"dying\" + 0.008*\"zombie\"'), (3, '0.031*\"game\" + 0.012*\"zombie\" + 0.006*\"dead\" + 0.006*\"playing\"')]\n",
      "Madden 19\n",
      "[(0, '0.025*\"ea\" + 0.020*\"madden\" + 0.020*\"it\" + 0.015*\"like\"'), (1, '0.021*\"game\" + 0.015*\"mut\" + 0.015*\"mode\" + 0.015*\"trash\"'), (2, '0.022*\"game\" + 0.022*\"madden\" + 0.019*\"ea\" + 0.016*\"pc\"'), (3, '0.042*\"madden\" + 0.042*\"game\" + 0.027*\"pc\" + 0.021*\"year\"')]\n",
      "Sunset Overdrive\n",
      "[(0, '0.063*\"game\" + 0.013*\"fun\" + 0.013*\"one\" + 0.008*\"best\"'), (1, '0.048*\"game\" + 0.019*\"fun\" + 0.015*\"sunset\" + 0.013*\"overdrive\"'), (2, '0.020*\"sunset\" + 0.019*\"overdrive\" + 0.008*\"game\" + 0.007*\"fun\"'), (3, '0.050*\"game\" + 0.020*\"fun\" + 0.013*\"sunset\" + 0.012*\"one\"')]\n",
      "NHL 18\n",
      "[(0, '0.026*\"game\" + 0.024*\"nhl\" + 0.020*\"mode\" + 0.016*\"new\"'), (1, '0.028*\"mode\" + 0.028*\"nhl\" + 0.019*\"game\" + 0.016*\"18\"'), (2, '0.038*\"game\" + 0.023*\"nhl\" + 0.014*\"18\" + 0.013*\"ea\"'), (3, '0.033*\"nhl\" + 0.022*\"game\" + 0.016*\"series\" + 0.016*\"mode\"')]\n",
      "Quantum Break\n",
      "[(0, '0.032*\"de\" + 0.030*\"que\" + 0.025*\"e\" + 0.022*\"la\"'), (1, '0.024*\"quantum\" + 0.023*\"break\" + 0.020*\"game\" + 0.014*\"time\"'), (2, '0.026*\"game\" + 0.010*\"like\" + 0.010*\"break\" + 0.009*\"quantum\"'), (3, '0.062*\"game\" + 0.018*\"story\" + 0.012*\"good\" + 0.012*\"quantum\"')]\n",
      "Dead Island Riptide\n",
      "[(0, '0.043*\"game\" + 0.017*\"island\" + 0.016*\"dead\" + 0.013*\"new\"'), (1, '0.033*\"game\" + 0.014*\"good\" + 0.012*\"one\" + 0.012*\"island\"'), (2, '0.043*\"game\" + 0.026*\"island\" + 0.025*\"dead\" + 0.021*\"riptide\"'), (3, '0.027*\"game\" + 0.013*\"even\" + 0.010*\"expand\" + 0.009*\"riptide\"')]\n",
      "No Mans Sky\n",
      "[(0, '0.056*\"game\" + 0.009*\"pc\" + 0.008*\"hour\" + 0.008*\"even\"'), (1, '0.023*\"game\" + 0.015*\"planet\" + 0.011*\"trash\" + 0.006*\"hour\"'), (2, '0.063*\"game\" + 0.008*\"sky\" + 0.007*\"like\" + 0.007*\"man\"'), (3, '0.039*\"game\" + 0.011*\"que\" + 0.010*\"expand\" + 0.009*\"de\"')]\n"
     ]
    },
    {
     "name": "stdout",
     "output_type": "stream",
     "text": [
      "Witness\n",
      "[(0, '0.042*\"game\" + 0.025*\"puzzle\" + 0.011*\"like\" + 0.007*\"witness\"'), (1, '0.015*\"game\" + 0.015*\"witness\" + 0.014*\"puzzle\" + 0.008*\"review\"'), (2, '0.045*\"game\" + 0.029*\"puzzle\" + 0.007*\"solve\" + 0.007*\"great\"'), (3, '0.040*\"game\" + 0.036*\"puzzle\" + 0.011*\"like\" + 0.011*\"witness\"')]\n",
      "Firewatch\n",
      "[(0, '0.024*\"expand\" + 0.020*\"game\" + 0.017*\"review\" + 0.016*\"click\"'), (1, '0.046*\"game\" + 0.018*\"firewatch\" + 0.016*\"story\" + 0.009*\"like\"'), (2, '0.059*\"game\" + 0.012*\"story\" + 0.009*\"firewatch\" + 0.008*\"really\"'), (3, '0.024*\"game\" + 0.022*\"story\" + 0.010*\"walking\" + 0.009*\"good\"')]\n",
      "ARMA\n",
      "[(0, '0.025*\"arma\" + 0.021*\"game\" + 0.010*\"3\" + 0.010*\"great\"'), (1, '0.039*\"game\" + 0.012*\"arma\" + 0.009*\"player\" + 0.007*\"series\"'), (2, '0.047*\"game\" + 0.019*\"arma\" + 0.011*\"3\" + 0.011*\"content\"'), (3, '0.032*\"game\" + 0.026*\"arma\" + 0.009*\"3\" + 0.009*\"better\"')]\n",
      "Skylines\n",
      "[(0, '0.061*\"city\" + 0.025*\"game\" + 0.019*\"skyline\" + 0.018*\"simcity\"'), (1, '0.049*\"game\" + 0.028*\"city\" + 0.010*\"skyline\" + 0.009*\"best\"'), (2, '0.052*\"game\" + 0.025*\"city\" + 0.013*\"simcity\" + 0.010*\"great\"'), (3, '0.041*\"city\" + 0.034*\"game\" + 0.017*\"simcity\" + 0.013*\"builder\"')]\n",
      "Stardew Valley\n",
      "[(0, '0.025*\"stardew\" + 0.025*\"valley\" + 0.014*\"version\" + 0.012*\"moon\"'), (1, '0.054*\"game\" + 0.014*\"ps4\" + 0.012*\"valley\" + 0.012*\"stardew\"'), (2, '0.032*\"game\" + 0.015*\"harvest\" + 0.015*\"moon\" + 0.015*\"valley\"'), (3, '0.022*\"game\" + 0.009*\"love\" + 0.009*\"everything\" + 0.009*\"really\"')]\n"
     ]
    }
   ],
   "source": [
    "import gensim\n",
    "from gensim import corpora\n",
    "for g in gamelist.keys():\n",
    "    Gamedf = Full[Full[\"Game\"] == g]\n",
    "    doc_complete = []\n",
    "    for i in range(1,len(Gamedf)):\n",
    "        doc_complete.append(Gamedf.iloc[i][3])\n",
    "    doc_clean = [clean(doc).split() for doc in doc_complete]\n",
    "    dictionary = corpora.Dictionary(doc_clean)\n",
    "    doc_term_matrix = [dictionary.doc2bow(doc) for doc in doc_clean]\n",
    "\n",
    "    # Creating the object for LDA model using gensim library\n",
    "    Lda = gensim.models.ldamodel.LdaModel\n",
    "    # Running and Trainign LDA model on the document term matrix.\n",
    "    ldamodel = Lda(doc_term_matrix, num_topics=4, id2word = dictionary, passes=30)\n",
    "    print(g)\n",
    "    print(ldamodel.print_topics(num_topics=4, num_words=4))"
   ]
  },
  {
   "cell_type": "code",
   "execution_count": 11,
   "metadata": {},
   "outputs": [
    {
     "name": "stdout",
     "output_type": "stream",
     "text": [
      "User\n",
      "[(0, '0.071*\"game\" + 0.010*\"like\" + 0.009*\"story\" + 0.009*\"one\"'), (1, '0.016*\"mod\" + 0.015*\"zombie\" + 0.011*\"skyrim\" + 0.010*\"oblivion\"'), (2, '0.032*\"de\" + 0.028*\"que\" + 0.019*\"e\" + 0.017*\"la\"'), (3, '0.041*\"expand\" + 0.021*\"review\" + 0.014*\"view\" + 0.013*\"spoiler\"')]\n",
      "Expert\n",
      "[(0, '0.008*\"paradise\" + 0.007*\"burnout\" + 0.006*\"god\" + 0.006*\"war\"'), (1, '0.024*\"game\" + 0.010*\"best\" + 0.010*\"one\" + 0.008*\"city\"'), (2, '0.035*\"game\" + 0.008*\"new\" + 0.007*\"one\" + 0.007*\"it’s\"'), (3, '0.029*\"game\" + 0.010*\"one\" + 0.008*\"gameplay\" + 0.007*\"experience\"')]\n"
     ]
    }
   ],
   "source": [
    "import gensim\n",
    "from gensim import corpora\n",
    "for g in [\"User\",\"Expert\"]:\n",
    "    Gamedf = Full[Full[\"Type\"] == g]\n",
    "    doc_complete = []\n",
    "    for i in range(1,len(Gamedf)):\n",
    "        doc_complete.append(Gamedf.iloc[i][3])\n",
    "    doc_clean = [clean(doc).split() for doc in doc_complete]\n",
    "    dictionary = corpora.Dictionary(doc_clean)\n",
    "    doc_term_matrix = [dictionary.doc2bow(doc) for doc in doc_clean]\n",
    "\n",
    "    # Creating the object for LDA model using gensim library\n",
    "    Lda = gensim.models.ldamodel.LdaModel\n",
    "    # Running and Trainign LDA model on the document term matrix.\n",
    "    ldamodel = Lda(doc_term_matrix, num_topics=4, id2word = dictionary, passes=30)\n",
    "    print(g)\n",
    "    print(ldamodel.print_topics(num_topics=4, num_words=4))"
   ]
  },
  {
   "cell_type": "code",
   "execution_count": 13,
   "metadata": {},
   "outputs": [
    {
     "name": "stdout",
     "output_type": "stream",
     "text": [
      "I\n",
      "[(0, '0.005*\"arma\" + 0.004*\"de\" + 0.003*\"que\" + 0.003*\"see\"'), (1, '0.067*\"game\" + 0.011*\"like\" + 0.008*\"story\" + 0.008*\"great\"'), (2, '0.035*\"city\" + 0.029*\"game\" + 0.012*\"simcity\" + 0.010*\"skyline\"'), (3, '0.018*\"expand\" + 0.012*\"arma\" + 0.011*\"game\" + 0.010*\"review\"')]\n",
      "A\n",
      "[(0, '0.048*\"game\" + 0.013*\"story\" + 0.011*\"like\" + 0.009*\"expand\"'), (1, '0.061*\"game\" + 0.026*\"best\" + 0.019*\"ever\" + 0.017*\"one\"'), (2, '0.064*\"game\" + 0.015*\"expand\" + 0.011*\"review\" + 0.008*\"hour\"'), (3, '0.032*\"de\" + 0.028*\"que\" + 0.019*\"e\" + 0.018*\"la\"')]\n"
     ]
    }
   ],
   "source": [
    "import gensim\n",
    "from gensim import corpora\n",
    "for g in [\"I\",\"A\"]:\n",
    "    Gamedf = Full[Full[\"Developer\"] == g]\n",
    "    doc_complete = []\n",
    "    for i in range(1,len(Gamedf)):\n",
    "        doc_complete.append(Gamedf.iloc[i][3])\n",
    "    doc_clean = [clean(doc).split() for doc in doc_complete]\n",
    "    dictionary = corpora.Dictionary(doc_clean)\n",
    "    doc_term_matrix = [dictionary.doc2bow(doc) for doc in doc_clean]\n",
    "\n",
    "    # Creating the object for LDA model using gensim library\n",
    "    Lda = gensim.models.ldamodel.LdaModel\n",
    "    # Running and Trainign LDA model on the document term matrix.\n",
    "    ldamodel = Lda(doc_term_matrix, num_topics=4, id2word = dictionary, passes=30)\n",
    "    print(g)\n",
    "    print(ldamodel.print_topics(num_topics=4, num_words=4))"
   ]
  },
  {
   "cell_type": "code",
   "execution_count": 6,
   "metadata": {},
   "outputs": [
    {
     "name": "stdout",
     "output_type": "stream",
     "text": [
      "AA\n",
      "[(0, '0.030*\"expand\" + 0.023*\"review\" + 0.018*\"view\" + 0.017*\"contains\"'), (1, '0.031*\"de\" + 0.029*\"que\" + 0.020*\"e\" + 0.018*\"la\"'), (2, '0.069*\"game\" + 0.010*\"one\" + 0.009*\"story\" + 0.009*\"like\"'), (3, '0.055*\"game\" + 0.007*\"like\" + 0.007*\"man\" + 0.007*\"soul\"')]\n",
      "FPS\n",
      "[(0, '0.025*\"expand\" + 0.017*\"review\" + 0.015*\"view\" + 0.013*\"contains\"'), (1, '0.021*\"de\" + 0.017*\"que\" + 0.015*\"destiny\" + 0.012*\"la\"'), (2, '0.060*\"game\" + 0.010*\"story\" + 0.009*\"one\" + 0.009*\"good\"'), (3, '0.018*\"game\" + 0.016*\"cod\" + 0.015*\"call\" + 0.014*\"duty\"')]\n",
      "RPG\n",
      "[(0, '0.048*\"game\" + 0.019*\"borderland\" + 0.014*\"expand\" + 0.011*\"2\"'), (1, '0.025*\"game\" + 0.010*\"get\" + 0.007*\"system\" + 0.006*\"skyrim\"'), (2, '0.052*\"game\" + 0.013*\"expand\" + 0.011*\"oblivion\" + 0.010*\"quest\"'), (3, '0.048*\"game\" + 0.028*\"mod\" + 0.010*\"paid\" + 0.009*\"like\"')]\n",
      "Puz\n",
      "[(0, '0.067*\"game\" + 0.009*\"story\" + 0.008*\"like\" + 0.008*\"one\"'), (1, '0.018*\"game\" + 0.009*\"firewatch\" + 0.006*\"one\" + 0.006*\"story\"'), (2, '0.004*\"la\" + 0.003*\"un\" + 0.003*\"de\" + 0.003*\"una\"'), (3, '0.051*\"city\" + 0.027*\"game\" + 0.018*\"simcity\" + 0.014*\"skyline\"')]\n",
      "S\n",
      "[(0, '0.036*\"game\" + 0.029*\"madden\" + 0.025*\"pc\" + 0.016*\"ea\"'), (1, '0.034*\"nhl\" + 0.017*\"game\" + 0.015*\"mode\" + 0.013*\"like\"'), (2, '0.020*\"nhl\" + 0.017*\"new\" + 0.011*\"mode\" + 0.009*\"team\"'), (3, '0.037*\"game\" + 0.017*\"nhl\" + 0.015*\"18\" + 0.013*\"ea\"')]\n"
     ]
    }
   ],
   "source": [
    "import gensim\n",
    "from gensim import corpora\n",
    "for g in [\"AA\",\"FPS\",\"RPG\",\"Puz\",\"S\"]:\n",
    "    Gamedf = Full[Full[\"Genre\"] == g]\n",
    "    doc_complete = []\n",
    "    for i in range(1,len(Gamedf)):\n",
    "        doc_complete.append(Gamedf.iloc[i][3])\n",
    "    doc_clean = [clean(doc).split() for doc in doc_complete]\n",
    "    dictionary = corpora.Dictionary(doc_clean)\n",
    "    doc_term_matrix = [dictionary.doc2bow(doc) for doc in doc_clean]\n",
    "\n",
    "    # Creating the object for LDA model using gensim library\n",
    "    Lda = gensim.models.ldamodel.LdaModel\n",
    "    # Running and Trainign LDA model on the document term matrix.\n",
    "    ldamodel = Lda(doc_term_matrix, num_topics=4, id2word = dictionary, passes=30)\n",
    "    print(g)\n",
    "    print(ldamodel.print_topics(num_topics=4, num_words=4))"
   ]
  }
 ],
 "metadata": {
  "kernelspec": {
   "display_name": "Python 3",
   "language": "python",
   "name": "python3"
  },
  "language_info": {
   "codemirror_mode": {
    "name": "ipython",
    "version": 3
   },
   "file_extension": ".py",
   "mimetype": "text/x-python",
   "name": "python",
   "nbconvert_exporter": "python",
   "pygments_lexer": "ipython3",
   "version": "3.6.5"
  }
 },
 "nbformat": 4,
 "nbformat_minor": 2
}
